{
 "cells": [
  {
   "cell_type": "code",
   "execution_count": 1,
   "metadata": {},
   "outputs": [],
   "source": [
    "import matplotlib.pyplot as plt\n",
    "import pandas as pd\n",
    "import seaborn as sns\n",
    "import torch\n",
    "import numpy as np\n",
    "from transformers import AdamW, AutoModelForSeq2SeqLM, AutoTokenizer, T5ForConditionalGeneration, T5Tokenizer\n",
    "from transformers import get_linear_schedule_with_warmup\n",
    "from tqdm import notebook\n",
    "import gc\n",
    "gc.enable()\n",
    "sns.set()"
   ]
  },
  {
   "cell_type": "code",
   "execution_count": null,
   "metadata": {},
   "outputs": [],
   "source": [
    "df = pd.read_csv(\"Combined.csv\")"
   ]
  },
  {
   "cell_type": "code",
   "execution_count": null,
   "metadata": {},
   "outputs": [],
   "source": [
    "X = df['Title']\n",
    "Y = df['Urdu']"
   ]
  },
  {
   "cell_type": "code",
   "execution_count": null,
   "metadata": {},
   "outputs": [],
   "source": []
  },
  {
   "cell_type": "code",
   "execution_count": null,
   "metadata": {},
   "outputs": [],
   "source": [
    "def encode_input_str(text, tokenizer, seq_len):\n",
    "    input_ids = tokenizer.encode(\n",
    "        text=text,\n",
    "        return_tensors='pt',\n",
    "        padding='max_length',\n",
    "        truncation=True,\n",
    "        max_length=seq_len)\n",
    "\n",
    "    return input_ids[0]\n",
    "\n",
    "def encode_target_str(text, tokenizer, seq_len):\n",
    "    token_ids = tokenizer.encode(\n",
    "        text=text,\n",
    "        return_tensors='pt',\n",
    "        padding='max_length',\n",
    "        truncation=True,\n",
    "        max_length=seq_len)\n",
    "\n",
    "    return token_ids[0]\n",
    "\n",
    "def format_translation_data(x, y, tokenizer, seq_len=128):\n",
    "    input_text = x\n",
    "    target_text = y\n",
    "\n",
    "    if input_text is None or target_text is None:\n",
    "        return None\n",
    "\n",
    "    input_token_ids = encode_input_str(input_text, tokenizer, seq_len)\n",
    "\n",
    "    target_token_ids = encode_target_str(target_text, tokenizer, seq_len)\n",
    "\n",
    "    return input_token_ids, target_token_ids\n",
    "\n",
    "def transform_batch(batch_x, batch_y, tokenizer):\n",
    "    inputs = []\n",
    "    targets = []\n",
    "    for i in range(len(batch_x)):\n",
    "        formatted_data = format_translation_data(batch_x[i], batch_y[i], tokenizer)\n",
    "        if formatted_data is None:\n",
    "            continue\n",
    "\n",
    "        input_ids, target_ids = formatted_data\n",
    "        inputs.append(input_ids.unsqueeze(0))\n",
    "        targets.append(target_ids.unsqueeze(0))\n",
    "    batch_input_ids = torch.cat(inputs).cuda()\n",
    "    # batch_input_ids = torch.cat(inputs)\n",
    "    batch_target_ids = torch.cat(targets).cuda()\n",
    "    # batch_target_ids = torch.cat(targets)\n",
    "\n",
    "    return batch_input_ids, batch_target_ids\n",
    "\n",
    "def get_data_generator(train_x, train_y, tokenizer, batch_size=16):\n",
    "    for i in range(0, len(train_x), batch_size):\n",
    "        batch_x = train_x[i:i+batch_size]\n",
    "        batch_y = train_y[i:i+batch_size]\n",
    "        yield transform_batch(batch_x, batch_y, tokenizer)\n",
    "        \n",
    "def eval_model(model, x, y, tokenizer, max_iters=8):\n",
    "    test_generator = get_data_generator(x, y, tokenizer)\n",
    "    eval_losses = []\n",
    "    for i, (input_batch, label_batch) in enumerate(test_generator):\n",
    "        if i >= max_iters:\n",
    "            break\n",
    "        model_out = model.forward(\n",
    "            input_ids=input_batch,\n",
    "            labels=label_batch)\n",
    "        eval_losses.append(model_out.loss.item())\n",
    "\n",
    "    return np.mean(eval_losses)"
   ]
  },
  {
   "cell_type": "code",
   "execution_count": null,
   "metadata": {},
   "outputs": [],
   "source": [
    "import os\n",
    "PATH = 'Models'\n",
    "# os.mkdir(PATH)\n",
    "n_epochs = 20\n",
    "batch_size = 8\n",
    "print_freq = 50\n",
    "checkpoint_freq = 25\n",
    "lr = 5e-4\n",
    "n_batches = int(np.ceil(len(df)*0.8 / batch_size))\n",
    "total_steps = n_epochs * n_batches\n",
    "n_warmup_steps = int(total_steps * 0.01)\n",
    "losses = []"
   ]
  },
  {
   "cell_type": "code",
   "execution_count": null,
   "metadata": {},
   "outputs": [],
   "source": [
    "from transformers import AutoTokenizer, AutoModelForCausalLM\n",
    "\n",
    "tokenizer = AutoTokenizer.from_pretrained(\"EleutherAI/gpt-j-6b\")\n",
    "\n",
    "model = AutoModelForCausalLM.from_pretrained(\"EleutherAI/gpt-j-6b\")"
   ]
  },
  {
   "cell_type": "code",
   "execution_count": null,
   "metadata": {},
   "outputs": [],
   "source": [
    "torch.cuda.empty_cache()"
   ]
  },
  {
   "cell_type": "code",
   "execution_count": null,
   "metadata": {},
   "outputs": [],
   "source": [
    "torch.cuda.empty_cache()\n",
    "model_path = PATH\n",
    "saving_path = PATH\n",
    "max_seq_len = 20\n",
    "# tokenizer = AutoTokenizer.from_pretrained('t5-base')\n",
    "# model = AutoModelForSeq2SeqLM.from_pretrained('charsiu/g2p_multilingual_mT5_small')\n",
    "model = model.cuda()\n",
    "optimizer = AdamW(model.parameters(), lr=lr)\n",
    "scheduler = get_linear_schedule_with_warmup(optimizer, n_warmup_steps, total_steps)\n",
    "model.resize_token_embeddings(len(tokenizer))\n",
    "for epoch_idx in range(n_epochs):\n",
    "# Randomize data order\n",
    "    data_generator = get_data_generator(x,y, tokenizer, batch_size)\n",
    "    # print(data_generator)\n",
    "    for batch_idx, (input_batch, label_batch) in notebook.tqdm(enumerate(data_generator), total=n_batches):\n",
    "        optimizer.zero_grad()\n",
    "        # print(batch_idx)\n",
    "        # print(input_batch)\n",
    "        # Forward pass\n",
    "        model_out = model.forward(input_ids = input_batch, labels = label_batch)\n",
    "\n",
    "        # Calculate loss and update weights\n",
    "        loss = model_out.loss\n",
    "        losses.append(loss.item())\n",
    "        loss.backward()\n",
    "        optimizer.step()\n",
    "        scheduler.step()\n",
    "\n",
    "        # Print training update info\n",
    "        if (batch_idx + 1) % print_freq == 0:\n",
    "            avg_loss = np.mean(losses[-print_freq:])\n",
    "            print('Epoch: {} | Step: {} | Avg. loss: {:.3f} | lr: {}'.format(\n",
    "                epoch_idx+1, batch_idx+1, avg_loss, scheduler.get_last_lr()[0]))\n",
    "            \n",
    "        if (batch_idx + 1) % checkpoint_freq == 0:\n",
    "            test_loss = eval_model(model, x,y,tokenizer)\n",
    "            print('Saving model with test loss of {:.3f}'.format(test_loss))\n",
    "            torch.save(model.state_dict(), model_path+'t5')\n",
    "            model.save_pretrained(saving_path)\n",
    "\n",
    "torch.save(model.state_dict(), model_path)\n",
    "window_size = 50\n",
    "\n",
    "\n",
    "#Emptying cache\n",
    "torch.cuda.empty_cache()"
   ]
  },
  {
   "cell_type": "code",
   "execution_count": null,
   "metadata": {},
   "outputs": [],
   "source": [
    "\n",
    "model.save_pretrained(PATH)"
   ]
  }
 ],
 "metadata": {
  "kernelspec": {
   "display_name": "Python 3",
   "language": "python",
   "name": "python3"
  },
  "language_info": {
   "codemirror_mode": {
    "name": "ipython",
    "version": 3
   },
   "file_extension": ".py",
   "mimetype": "text/x-python",
   "name": "python",
   "nbconvert_exporter": "python",
   "pygments_lexer": "ipython3",
   "version": "3.11.3"
  },
  "orig_nbformat": 4
 },
 "nbformat": 4,
 "nbformat_minor": 2
}
